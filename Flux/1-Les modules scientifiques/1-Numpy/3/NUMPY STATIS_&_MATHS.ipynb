{
 "cells": [
  {
   "cell_type": "code",
   "execution_count": 3,
   "metadata": {},
   "outputs": [
    {
     "data": {
      "text/plain": [
       "array([[7.38905610e+00, 4.03428793e+02, 1.09663316e+03],\n",
       "       [8.10308393e+03, 1.09663316e+03, 2.98095799e+03]])"
      ]
     },
     "execution_count": 3,
     "metadata": {},
     "output_type": "execute_result"
    }
   ],
   "source": [
    "import numpy as np\n",
    "\n",
    "#some simples maths method\n",
    "\n",
    "A = np.random.randint(0,10, [2,3])\n",
    "A\n",
    "# [[5 0 0]\n",
    "# [9 5 2]]\n",
    "A.sum(axis=0) #[14  5  2]\n",
    "A.sum(axis=1) #[ 5 16]\n",
    "A.cumsum(axis=0) #cumsum :  [[ 5  0  0] [14  5  2]]\n",
    "A.prod(axis=0) #prod :  [45  0  0]\n",
    "A.cumprod(axis=0) #cumprod :  [[ 5  0  0] [45  0  0]]\n",
    "A.min(axis=0) #[5, 0, 0] 5 < 9 , 0 < 5 ..ect\n",
    "A.argmin(axis=0) # argmin :  [0 0 0] axe sur lequel se trouve le min. 5, 0, 0 position axe 0, 9 5 2 axe 1  \n",
    "                                     # 5 < 9 et est sur l<axe 0, 0 < 5 et est a la position 0 (voir doc word)\n",
    "A.sort(axis=0) #None\n",
    "A.argsort(axis=0) #argsort :  [[0 0 0] [1 1 1]]\n",
    "\n",
    "\n",
    "#e.g use somes routines maths : https://docs.scipy.org/doc/numpy-1.13.0/reference/routines.math.html\n",
    "np.exp(A)\n"
   ]
  },
  {
   "cell_type": "code",
   "execution_count": 24,
   "metadata": {},
   "outputs": [
    {
     "name": "stdout",
     "output_type": "stream",
     "text": [
      "value 0 apparait 1 fois\n",
      "value 1 apparait 1 fois\n",
      "value 6 apparait 1 fois\n",
      "value 8 apparait 1 fois\n",
      "value 7 apparait 2 fois\n",
      "value 5 apparait 3 fois\n"
     ]
    },
    {
     "data": {
      "text/plain": [
       "array([[-0.90211904,  0.68914456,  3.02040653,  0.11974284, -0.043533  ],\n",
       "       [ 0.27173717,  0.51831502,  0.83956746, -0.39302039,  0.28153659],\n",
       "       [ 1.09628496, -0.46211821,  0.        , -0.21511962,  0.        ],\n",
       "       [-1.55106048, -1.23004904, -1.45905095, -0.85248466,  1.30204023],\n",
       "       [ 1.21835914,  0.35386569,  0.26696959,  1.0741792 ,  0.53570848]])"
      ]
     },
     "execution_count": 24,
     "metadata": {},
     "output_type": "execute_result"
    }
   ],
   "source": [
    "#Statistiques\n",
    "A.min()\n",
    "A.argmin()\n",
    "A.mean()\n",
    "A.var()\n",
    "A.std() # ecart-type\n",
    "#...etc\n",
    "\n",
    "# somes routies stats: https://docs.scipy.org/doc/numpy-1.13.0/reference/routines.statistics.html\n",
    "np.corrcoef(A) # return une correlation entre les lignes d'une matrice (voir doc word)\n",
    "               # array([[ 1.        , -0.24019223],\n",
    "               #       [-0.24019223,  1.        ]])\n",
    "\n",
    "\n",
    "# very used in stats\n",
    "np.random.seed(15)\n",
    "A2 = np.random.randint(0, 10, [3, 3])\n",
    "A2\n",
    "#array([[8, 5, 5],\n",
    "#       [7, 0, 7],\n",
    "#       [5, 6, 1]])\n",
    "\n",
    "values, counts = np.unique(A2, return_counts=True) # return 1- tableau of different keys in A. 2- number of occurrance of each keys\n",
    "                                                   #values = [0, 1, 5, 6, 7, 8] \n",
    "                                                   #counts = [1, 1, 3, 1, 2, 1]\n",
    "counts.argsort() # [0, 1, 3, 5, 4, 2]  indexs qui permettent de trier counts\n",
    "\n",
    "values[counts.argsort()] # [0, 1, 6, 8, 7, 5] values sont triés du nombre ayant le moins d'occurrence au plus ...\n",
    "                         # on injecte les index qui permet de trier counts dans values, ce qui va retrier values\\\n",
    "                        #le nombre qui ressort le plus souvent est le 5 ensuite le 7 ensuite le 8 ...le moins souvent est 0\n",
    "        \n",
    "for i,j in zip(values[counts.argsort()], counts[counts.argsort()]) :\n",
    "    print(f'value {i} apparait {j} fois')\n",
    "\n",
    "#value 0 apparait 1 fois\n",
    "#value 1 apparait 1 fois\n",
    "#value 6 apparait 1 fois\n",
    "#value 8 apparait 1 fois\n",
    "#value 7 apparait 2 fois\n",
    "#value 5 apparait 3 fois\n",
    "\n",
    "# NAN correction\n",
    "\n",
    "M = np.random.randn(5, 5)\n",
    "M[2,2] = np.nan\n",
    "M[2,4] = np.nan\n",
    "\n",
    "#M.mean() --> error\n",
    "np.nanmean(M) # 0.18132814194218835   Ignor Nan dans M\n",
    "\n",
    "#number occurance in M\n",
    "np.isnan(M)\n",
    "#array([[False, False, False, False, False],\n",
    "#       [False, False, False, False, False],\n",
    "#       [False, False,  True, False, False],\n",
    "#       [False, False, False, False, False],\n",
    "#       [False, False, False, False, False]])\n",
    "\n",
    "np.isnan(M).sum() # 2\n",
    "\n",
    "#Se debarasser de NAN in an ndarry\n",
    "\n",
    "M[np.isnan(M)] = 0\n",
    "M # nan is replaced by 0"
   ]
  },
  {
   "cell_type": "code",
   "execution_count": null,
   "metadata": {},
   "outputs": [],
   "source": [
    "#Linear Algebra (see vid)"
   ]
  },
  {
   "cell_type": "code",
   "execution_count": 30,
   "metadata": {},
   "outputs": [
    {
     "data": {
      "text/plain": [
       "array([1., 1., 1., 1.])"
      ]
     },
     "execution_count": 30,
     "metadata": {},
     "output_type": "execute_result"
    }
   ],
   "source": [
    "#Exercice\n",
    "#stanrdiser la matrice A sur chaque colonne (A-A barre/variance de A)\n",
    "#chaque colonne doit avoir une moyenne 0 et un ecart type= 1\n",
    "\n",
    "np.random.seed(0)\n",
    "A = np.random.randint(0, 100, [10, 4])\n",
    "\n",
    "A = (A - A.mean(axis=0)) / A.std(axis=0)\n",
    "A\n",
    "\n",
    "#proove\n",
    "A.std(axis=0) # array([1., 1., 1., 1.])"
   ]
  },
  {
   "cell_type": "code",
   "execution_count": null,
   "metadata": {},
   "outputs": [],
   "source": []
  },
  {
   "cell_type": "code",
   "execution_count": null,
   "metadata": {},
   "outputs": [],
   "source": []
  }
 ],
 "metadata": {
  "kernelspec": {
   "display_name": "Python 3",
   "language": "python",
   "name": "python3"
  },
  "language_info": {
   "codemirror_mode": {
    "name": "ipython",
    "version": 3
   },
   "file_extension": ".py",
   "mimetype": "text/x-python",
   "name": "python",
   "nbconvert_exporter": "python",
   "pygments_lexer": "ipython3",
   "version": "3.7.4"
  }
 },
 "nbformat": 4,
 "nbformat_minor": 2
}
