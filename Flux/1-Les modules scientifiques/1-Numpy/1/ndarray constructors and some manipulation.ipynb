{
 "cells": [
  {
   "cell_type": "code",
   "execution_count": 83,
   "metadata": {},
   "outputs": [
    {
     "data": {
      "text/plain": [
       "array([1, 2, 3])"
      ]
     },
     "execution_count": 83,
     "metadata": {},
     "output_type": "execute_result"
    }
   ],
   "source": [
    "import numpy as np"
   ]
  },
  {
   "cell_type": "code",
   "execution_count": 89,
   "metadata": {},
   "outputs": [
    {
     "data": {
      "text/plain": [
       "(3,)"
      ]
     },
     "execution_count": 89,
     "metadata": {},
     "output_type": "execute_result"
    }
   ],
   "source": [
    "#creer un tableau de 1 dimension\n",
    "\n",
    "ArrayBadInitilized = np.array([1,2,3]) #if I want to have an array initialized with elments 1,2,3\n",
    "\n",
    "ArrayBadInitilized #array([1, 2, 3])\n",
    "ArrayBadInitilized.ndim # 1\n",
    "ArrayBadInitilized.shape # (3,)\n",
    "\n",
    "# good initialisation \n",
    "vector = np.ones(3,) #array([1., 1., 1.])\n",
    "\n",
    "\n",
    "#tabeleau 3 ligne et 1 columns avec bonne initialisation\n",
    "\n",
    "A= np.zeros((3, 1)) #A.zeros(shape) avec shape est un tuple 3 = # lines and 1 = #columns\n",
    "A\n",
    "#array([[0.],\n",
    "#       [0.],\n",
    "#       [0.]])\n",
    "\n",
    "A.shape #(3, 1)"
   ]
  },
  {
   "cell_type": "code",
   "execution_count": 82,
   "metadata": {},
   "outputs": [
    {
     "data": {
      "text/plain": [
       "array([[0.],\n",
       "       [0.],\n",
       "       [0.]])"
      ]
     },
     "execution_count": 82,
     "metadata": {},
     "output_type": "execute_result"
    }
   ],
   "source": [
    "\n",
    "#Autres exemples\n",
    "B= np.zeros((3,2)) \n",
    "B # array([[0., 0.], [0., 0.], [0., 0.]])\n",
    "\n",
    "type(B) # numpy.ndarray\n",
    "B.ndim #2\n",
    "B.shape # (3,2)\n",
    "type(B.shape) #tuple\n",
    "\n",
    "C = np.ones((2,2))\n",
    "C # array([[1., 1.], [1., 1.]])\n",
    "\n",
    "D = np.full((2,3), 7)\n",
    "D # array([[7, 7, 7], [7, 7, 7]])\n",
    "\n",
    "EmptyArray = np.empty((2,3))\n",
    "EmptyArray # same thig as np.zeros(...)\n",
    "\n",
    "MatriceIdendity = np.eye(3)\n",
    "MatriceIdendity\n",
    "# array([[1., 0., 0.],\n",
    "#       [0., 1., 0.],\n",
    "#       [0., 0., 1.]])\n",
    "\n",
    "A"
   ]
  },
  {
   "cell_type": "code",
   "execution_count": 69,
   "metadata": {},
   "outputs": [
    {
     "data": {
      "text/plain": [
       "array([[-1.09586204, -1.08776574, -0.30517005, -0.47374837],\n",
       "       [-0.20059454,  0.35519677,  0.68951772,  0.41058968],\n",
       "       [-0.56497844,  0.59939069, -0.16293631,  1.6002145 ]])"
      ]
     },
     "execution_count": 69,
     "metadata": {},
     "output_type": "execute_result"
    }
   ],
   "source": [
    "#https://docs.scipy.org/doc/numpy-1.15.0/reference/routines.random.html\n",
    "\n",
    "Matrice = np.random.randn(3,4) #Return a sample (or samples) from the “standard normal” distribution.\n",
    "Matrice\n",
    "#array([[-1.09586204, -1.08776574, -0.30517005, -0.47374837],\n",
    "#       [-0.20059454,  0.35519677,  0.68951772,  0.41058968],\n",
    "#       [-0.56497844,  0.59939069, -0.16293631,  1.6002145 ]])\n",
    "\n",
    "type(Matrice) #numpy.ndarray\n",
    "\n",
    "np.random.seed(15)\n",
    "MatriceFixe = np.random.randn(2,3)\n",
    "MatriceFixe # tjrs result: array([[-0.31232848,  0.33928471, -0.15590853], [-0.50178967,  0.23556889, -1.76360526]])"
   ]
  },
  {
   "cell_type": "code",
   "execution_count": 29,
   "metadata": {},
   "outputs": [
    {
     "data": {
      "text/plain": [
       "array([0, 3, 6, 9])"
      ]
     },
     "execution_count": 29,
     "metadata": {},
     "output_type": "execute_result"
    }
   ],
   "source": [
    "#constructeur np.linspace(debut, fin, quantite)\n",
    "A = np.linspace(0, 10, 5) #return un tableau qui contient 5 elemts entre 0 et 10\n",
    "A #array([ 0. ,  2.5,  5. ,  7.5, 10. ])\n",
    "\n",
    "#constructeur np.arange(debut, fin, pas)\n",
    "B = np.arange(0, 10, 3)\n",
    "B # array([0, 3, 6 , 9 ])"
   ]
  },
  {
   "cell_type": "code",
   "execution_count": 40,
   "metadata": {},
   "outputs": [
    {
     "data": {
      "text/plain": [
       "array([ 0.    ,  0.5264,  1.053 ,  1.579 ,  2.105 ,  2.63  ,  3.158 ,\n",
       "        3.684 ,  4.21  ,  4.74  ,  5.26  ,  5.79  ,  6.316 ,  6.844 ,\n",
       "        7.367 ,  7.895 ,  8.42  ,  8.945 ,  9.48  , 10.    ],\n",
       "      dtype=float16)"
      ]
     },
     "execution_count": 40,
     "metadata": {},
     "output_type": "execute_result"
    }
   ],
   "source": [
    "# optional param dtype\n",
    "\n",
    "FloatMatrice = np.linspace(0, 10 , 20,  dtype=np.float16)\n",
    "FloatMatrice\n",
    "#array([ 0.    ,  0.5264,  1.053 ,  1.579 ,  2.105 ,  2.63  ,  3.158 ,\n",
    " #       3.684 ,  4.21  ,  4.74  ,  5.26  ,  5.79  ,  6.316 ,  6.844 ,\n",
    "  #      7.367 ,  7.895 ,  8.42  ,  8.945 ,  9.48  , 10.    ],\n",
    "   #    dtype=float16)"
   ]
  },
  {
   "cell_type": "code",
   "execution_count": 49,
   "metadata": {},
   "outputs": [
    {
     "data": {
      "text/plain": [
       "array([[0., 0.],\n",
       "       [0., 0.],\n",
       "       [0., 0.],\n",
       "       [1., 1.],\n",
       "       [1., 1.],\n",
       "       [1., 1.]])"
      ]
     },
     "execution_count": 49,
     "metadata": {},
     "output_type": "execute_result"
    }
   ],
   "source": [
    "# Manipulations\n",
    "#Assembler 2 tableaux avec hstack (horisontal stack) et vstack (vertical stack)\n",
    "\n",
    "A = np.zeros((3,2))\n",
    "B = np.ones((3,2))\n",
    "\n",
    "C = np.hstack((A,B)) \n",
    "# C = np.concatenate((A,B), axis=1) donne la meme chose\n",
    "\n",
    "#A\n",
    "#array([[0., 0.],\n",
    "#       [0., 0.],\n",
    "#       [0., 0.]])\n",
    "\n",
    "B\n",
    "#array([[1., 1.],\n",
    "#       [1., 1.],\n",
    "#       [1., 1.]])\n",
    "\n",
    "C\n",
    "#array([[0., 0., 1., 1.],\n",
    "#       [0., 0., 1., 1.],\n",
    "#       [0., 0., 1., 1.]])\n",
    "\n",
    "D = np.vstack((A,B))\n",
    "#D = np.concatenate((A,B), axis=0) donne la meme chose\n",
    "D\n",
    "#array([[0., 0.],\n",
    "#       [0., 0.],\n",
    "#       [0., 0.],\n",
    "#       [1., 1.],\n",
    "#       [1., 1.],\n",
    "#       [1., 1.]])"
   ]
  },
  {
   "cell_type": "code",
   "execution_count": 61,
   "metadata": {},
   "outputs": [
    {
     "data": {
      "text/plain": [
       "(3,)"
      ]
     },
     "execution_count": 61,
     "metadata": {},
     "output_type": "execute_result"
    }
   ],
   "source": [
    "#reshape\n",
    "A = np.ones((6,2)) # 6*2 = 12\n",
    "A\n",
    "#array([[1., 1.],\n",
    "#       [1., 1.],\n",
    "#       [1., 1.],\n",
    "#       [1., 1.],\n",
    "#       [1., 1.],\n",
    "#       [1., 1.]])\n",
    "\n",
    "A = A.reshape((3, 4)) # 3*4 = 12\n",
    "A\n",
    "#array([[1., 1., 1., 1.],\n",
    "#       [1., 1., 1., 1.],\n",
    "#       [1., 1., 1., 1.]])\n",
    "\n",
    "# use reshape to correcte shape\n",
    "#let be:\n",
    "matrix = np.array([1,2,3])\n",
    "matrix.shape #  (3,) (cas vector: 1 dimension avec 3 columns) or souvent le faite d'avoir un vide apres le 3 \n",
    "             # est mauvais pour les calcul. \n",
    "             # On aimerait par ex avoir (3,1)\n",
    "matrix = matrix.reshape((matrix.shape[0], 1))\n",
    "matrix.shape #(3, 1)\n",
    "\n",
    "#si on veut eliminer le 1\n",
    "matrix = matrix.squeeze()\n",
    "matrix.shape #(3,)"
   ]
  },
  {
   "cell_type": "code",
   "execution_count": 65,
   "metadata": {},
   "outputs": [
    {
     "data": {
      "text/plain": [
       "(4,)"
      ]
     },
     "execution_count": 65,
     "metadata": {},
     "output_type": "execute_result"
    }
   ],
   "source": [
    "#Methode ravel() pour aplatir un tableau \n",
    "A = np.zeros((2,2))\n",
    "A \n",
    "#array([[0., 0.],\n",
    "#       [0., 0.]])\n",
    "\n",
    "A.ravel() # array([0., 0., 0., 0.])\n",
    "A.ravel().shape # (4,)"
   ]
  },
  {
   "cell_type": "code",
   "execution_count": 80,
   "metadata": {},
   "outputs": [
    {
     "data": {
      "text/plain": [
       "array([[ 1.21504155, -0.66751649, -0.27250578,  1.41677448,  1.        ],\n",
       "       [-0.78260896, -0.2503207 , -0.30831446,  1.72968803,  1.        ],\n",
       "       [ 1.97827237,  0.21968803,  1.89481985, -1.36809944,  1.        ]])"
      ]
     },
     "execution_count": 80,
     "metadata": {},
     "output_type": "execute_result"
    }
   ],
   "source": [
    "#Exercice\n",
    "\n",
    "def initialisation(m, n):\n",
    "    # m : # de lines\n",
    "    # n : # de columns\n",
    "    # return une matrice aleatoire (m, n+1)\n",
    "    # avec une  colomun biais ('remplie de 1') toute a droite\n",
    "    \n",
    "    X = np.random.randn(m, n)\n",
    "    X = np.concatenate((X, np.ones((X.shape[0], 1))), axis = 1) #array([[1.],\n",
    "                                                                #       [1.],\n",
    "                                                                #       [1.]])\n",
    "    return X\n",
    "\n",
    "A = initialisation(3, 4)\n",
    "A\n"
   ]
  },
  {
   "cell_type": "code",
   "execution_count": null,
   "metadata": {},
   "outputs": [],
   "source": []
  }
 ],
 "metadata": {
  "kernelspec": {
   "display_name": "Python 3",
   "language": "python",
   "name": "python3"
  },
  "language_info": {
   "codemirror_mode": {
    "name": "ipython",
    "version": 3
   },
   "file_extension": ".py",
   "mimetype": "text/x-python",
   "name": "python",
   "nbconvert_exporter": "python",
   "pygments_lexer": "ipython3",
   "version": "3.7.4"
  }
 },
 "nbformat": 4,
 "nbformat_minor": 2
}
